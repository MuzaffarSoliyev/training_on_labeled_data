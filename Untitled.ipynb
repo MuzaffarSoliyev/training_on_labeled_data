{
 "cells": [
  {
   "cell_type": "code",
   "execution_count": 15,
   "id": "dd1d673b",
   "metadata": {},
   "outputs": [],
   "source": [
    "import numpy as np\n",
    "X = np.array([[4, 2], [3, 2], [3, 2], [3, 2], [3, 1],[3, 2]])\n",
    "y = np.array([4, 4, 3, 4, 4, 3])"
   ]
  },
  {
   "cell_type": "code",
   "execution_count": 3,
   "id": "c2b23127",
   "metadata": {},
   "outputs": [],
   "source": [
    "from sklearn.linear_model import LinearRegression"
   ]
  },
  {
   "cell_type": "code",
   "execution_count": 19,
   "id": "95e9288d",
   "metadata": {},
   "outputs": [
    {
     "data": {
      "text/plain": [
       "LinearRegression()"
      ]
     },
     "execution_count": 19,
     "metadata": {},
     "output_type": "execute_result"
    }
   ],
   "source": [
    "linear_regression = LinearRegression()\n",
    "linear_regression.fit(X, y)"
   ]
  },
  {
   "cell_type": "code",
   "execution_count": 20,
   "id": "0e671b70",
   "metadata": {},
   "outputs": [
    {
     "data": {
      "text/plain": [
       "array([ 0.5, -0.5])"
      ]
     },
     "execution_count": 20,
     "metadata": {},
     "output_type": "execute_result"
    }
   ],
   "source": [
    "linear_regression.coef_"
   ]
  },
  {
   "cell_type": "code",
   "execution_count": 18,
   "id": "06acba04",
   "metadata": {},
   "outputs": [
    {
     "data": {
      "text/plain": [
       "array([4.64285714, 3.39285714, 3.39285714, 3.39285714, 3.57142857,\n",
       "       3.39285714])"
      ]
     },
     "execution_count": 18,
     "metadata": {},
     "output_type": "execute_result"
    }
   ],
   "source": [
    "X @ linear_regression.coef_"
   ]
  },
  {
   "cell_type": "code",
   "execution_count": 24,
   "id": "01830239",
   "metadata": {},
   "outputs": [],
   "source": [
    "import math\n",
    "X = [[1, 1, 4], [4, 4, 4], [1, 4, 1], [1, 2, 4], [4, 3, 3], [2, 3, 1], [2, 3, 1]]\n",
    "\n",
    "def lengt(x1, x2):\n",
    "    return math.sqrt((x2[0] - x1[0]) ** 2 + (x2[1] - x1[1]) ** 2 + (x2[2] - x1[2]) ** 2)"
   ]
  },
  {
   "cell_type": "code",
   "execution_count": 25,
   "id": "5927ea6c",
   "metadata": {},
   "outputs": [
    {
     "name": "stdout",
     "output_type": "stream",
     "text": [
      "2.449489742783178\n",
      "2.449489742783178\n",
      "2.449489742783178\n",
      "1.7320508075688772\n",
      "2.0\n",
      "2.0\n",
      "2.0\n"
     ]
    }
   ],
   "source": [
    "for i in X:\n",
    "    print(lengt([2, 3, 3], i))"
   ]
  },
  {
   "cell_type": "code",
   "execution_count": 27,
   "id": "22495864",
   "metadata": {},
   "outputs": [
    {
     "data": {
      "text/plain": [
       "[4, 3, 3, 2, 3, 1, 2, 3, 1, 4, 4, 4, 1, 4, 1]"
      ]
     },
     "execution_count": 27,
     "metadata": {},
     "output_type": "execute_result"
    }
   ],
   "source": [
    "[4, 3, 3] + [2, 3, 1] + [2, 3, 1] + [4, 4, 4] + [1, 4, 1]"
   ]
  },
  {
   "cell_type": "code",
   "execution_count": 26,
   "id": "4e0045bb",
   "metadata": {},
   "outputs": [
    {
     "name": "stdout",
     "output_type": "stream",
     "text": [
      "2.0\n",
      "3.1622776601683795\n",
      "3.1622776601683795\n",
      "1.0\n",
      "3.1622776601683795\n",
      "3.1622776601683795\n",
      "3.1622776601683795\n"
     ]
    }
   ],
   "source": [
    "for i in X:\n",
    "    print(lengt([1, 3, 4], i))"
   ]
  },
  {
   "cell_type": "code",
   "execution_count": 28,
   "id": "4381b400",
   "metadata": {},
   "outputs": [
    {
     "name": "stdout",
     "output_type": "stream",
     "text": [
      "3.509985754956849\n",
      "2.513961017995307\n",
      "1.9798989873223334\n",
      "2.9189039038652846\n",
      "1.7663521732655694\n",
      "1.2328828005937953\n",
      "1.2328828005937953\n"
     ]
    }
   ],
   "source": [
    "for i in X:\n",
    "    print(lengt([13/5, 17/5, 2], i))"
   ]
  },
  {
   "cell_type": "code",
   "execution_count": 29,
   "id": "8ba92460",
   "metadata": {},
   "outputs": [
    {
     "name": "stdout",
     "output_type": "stream",
     "text": [
      "0.5\n",
      "3.905124837953327\n",
      "3.905124837953327\n",
      "0.5\n",
      "3.5\n",
      "3.5\n",
      "3.5\n"
     ]
    }
   ],
   "source": [
    "for i in X:\n",
    "    print(lengt([1, 1.5, 4], i))"
   ]
  },
  {
   "cell_type": "code",
   "execution_count": 30,
   "id": "b2ececf6",
   "metadata": {},
   "outputs": [
    {
     "data": {
      "text/plain": [
       "220.5"
      ]
     },
     "execution_count": 30,
     "metadata": {},
     "output_type": "execute_result"
    }
   ],
   "source": [
    "((24-3) ** 2 )/2"
   ]
  },
  {
   "cell_type": "code",
   "execution_count": 32,
   "id": "d760e720",
   "metadata": {},
   "outputs": [],
   "source": [
    "p_1 = 0.9\n",
    "p_2 = 0.07\n",
    "p_3 = 0.03"
   ]
  },
  {
   "cell_type": "code",
   "execution_count": 35,
   "id": "f5113d1f",
   "metadata": {},
   "outputs": [
    {
     "data": {
      "text/plain": [
       "0.18419999999999997"
      ]
     },
     "execution_count": 35,
     "metadata": {},
     "output_type": "execute_result"
    }
   ],
   "source": [
    "sum([p_1 * (1 - p_1), p_2 * (1 - p_2), p_3 * (1 - p_3)])"
   ]
  }
 ],
 "metadata": {
  "kernelspec": {
   "display_name": "Python 3 (ipykernel)",
   "language": "python",
   "name": "python3"
  },
  "language_info": {
   "codemirror_mode": {
    "name": "ipython",
    "version": 3
   },
   "file_extension": ".py",
   "mimetype": "text/x-python",
   "name": "python",
   "nbconvert_exporter": "python",
   "pygments_lexer": "ipython3",
   "version": "3.9.7"
  }
 },
 "nbformat": 4,
 "nbformat_minor": 5
}
