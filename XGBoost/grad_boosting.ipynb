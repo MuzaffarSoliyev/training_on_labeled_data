{
  "cells": [
    {
      "cell_type": "markdown",
      "metadata": {
        "id": "Oo-rURGCwbqr"
      },
      "source": [
        "# Градиентный бустинг своими руками\n",
        "\n",
        "**Внимание:** в тексте задания произошли изменения - поменялось число деревьев (теперь 50), правило изменения величины шага в задании 3 и добавился параметр `random_state` у решающего дерева. Правильные ответы не поменялись, но теперь их проще получить. Также исправлена опечатка в функции `gbm_predict`.\n",
        "\n",
        "В этом задании будет использоваться датасет `boston` из `sklearn.datasets`. Оставьте последние 25% объектов для контроля качества, разделив `X` и `y` на `X_train`, `y_train` и `X_test`, `y_test`.\n",
        "\n",
        "Целью задания будет реализовать простой вариант градиентного бустинга над регрессионными деревьями для случая квадратичной функции потерь."
      ]
    },
    {
      "cell_type": "code",
      "execution_count": null,
      "metadata": {
        "collapsed": true,
        "id": "GXdVrigbwbqu"
      },
      "outputs": [],
      "source": [
        "from sklearn.datasets import load_boston\n",
        "import numpy as np\n",
        "import matplotlib.pyplot as plt\n",
        "from sklearn.model_selection import train_test_split\n",
        "\n",
        "boston = load_boston()\n",
        "boston.keys()"
      ]
    },
    {
      "cell_type": "code",
      "source": [
        "X = boston.data\n",
        "y = boston.target\n",
        "X_train, X_test, y_train, y_test = train_test_split(X, y, test_size=0.25, shuffle=False)"
      ],
      "metadata": {
        "id": "yHT42o-xyP4-"
      },
      "execution_count": 63,
      "outputs": []
    },
    {
      "cell_type": "markdown",
      "metadata": {
        "id": "Ka_hBN5ewbqu"
      },
      "source": [
        "## Задание 1\n",
        "\n",
        "Как вы уже знаете из лекций, **бустинг** - это метод построения композиций базовых алгоритмов с помощью последовательного добавления к текущей композиции нового алгоритма с некоторым коэффициентом. \n",
        "\n",
        "Градиентный бустинг обучает каждый новый алгоритм так, чтобы он приближал антиградиент ошибки по ответам композиции на обучающей выборке. Аналогично минимизации функций методом градиентного спуска, в градиентном бустинге мы подправляем композицию, изменяя алгоритм в направлении антиградиента ошибки.\n",
        "\n",
        "Воспользуйтесь формулой из лекций, задающей ответы на обучающей выборке, на которые нужно обучать новый алгоритм (фактически это лишь чуть более подробно расписанный градиент от ошибки), и получите частный ее случай, если функция потерь `L` - квадрат отклонения ответа композиции `a(x)` от правильного ответа `y` на данном `x`.\n",
        "\n",
        "Если вы давно не считали производную самостоятельно, вам поможет таблица производных элементарных функций (которую несложно найти в интернете) и правило дифференцирования сложной функции. После дифференцирования квадрата у вас возникнет множитель 2 — т.к. нам все равно предстоит выбирать коэффициент, с которым будет добавлен новый базовый алгоритм, проигноируйте этот множитель при дальнейшем построении алгоритма."
      ]
    },
    {
      "cell_type": "code",
      "execution_count": 24,
      "metadata": {
        "collapsed": true,
        "id": "txNrwqouwbqv"
      },
      "outputs": [],
      "source": [
        "def get_s(answers, predictions):\n",
        "  s = np.zeros(predictions.shape[0])\n",
        "  for i in range(predictions.shape[0]):\n",
        "    s[i] += -1.0 * (answers[i] - predictions[i])\n",
        "  return s"
      ]
    },
    {
      "cell_type": "markdown",
      "metadata": {
        "id": "xE0B9ufMwbqv"
      },
      "source": [
        "## Задание 2\n",
        "\n",
        "Заведите массив для объектов `DecisionTreeRegressor` (будем их использовать в качестве базовых алгоритмов) и для вещественных чисел (это будут коэффициенты перед базовыми алгоритмами). \n",
        "\n",
        "В цикле от обучите последовательно 50 решающих деревьев с параметрами `max_depth=5` и `random_state=42` (остальные параметры - по умолчанию). В бустинге зачастую используются сотни и тысячи деревьев, но мы ограничимся 50, чтобы алгоритм работал быстрее, и его было проще отлаживать (т.к. цель задания разобраться, как работает метод). Каждое дерево должно обучаться на одном и том же множестве объектов, но ответы, которые учится прогнозировать дерево, будут меняться в соответствие с полученным в задании 1 правилом. \n",
        "\n",
        "Попробуйте для начала всегда брать коэффициент равным 0.9. Обычно оправдано выбирать коэффициент значительно меньшим - порядка 0.05 или 0.1, но т.к. в нашем учебном примере на стандартном датасете будет всего 50 деревьев, возьмем для начала шаг побольше.\n",
        "\n",
        "В процессе реализации обучения вам потребуется функция, которая будет вычислять прогноз построенной на данный момент композиции деревьев на выборке `X`:\n",
        "\n",
        "```\n",
        "def gbm_predict(X):\n",
        "    return [sum([coeff * algo.predict([x])[0] for algo, coeff in zip(base_algorithms_list, coefficients_list)]) for x in X]\n",
        "(считаем, что base_algorithms_list - список с базовыми алгоритмами, coefficients_list - список с коэффициентами перед алгоритмами)\n",
        "```\n",
        "\n",
        "Эта же функция поможет вам получить прогноз на контрольной выборке и оценить качество работы вашего алгоритма с помощью `mean_squared_error` в `sklearn.metrics`. \n",
        "\n",
        "Возведите результат в степень 0.5, чтобы получить `RMSE`. Полученное значение `RMSE` — **ответ в пункте 2**."
      ]
    },
    {
      "cell_type": "code",
      "execution_count": 32,
      "metadata": {
        "collapsed": true,
        "id": "1Yw6jnSZwbqw"
      },
      "outputs": [],
      "source": [
        "\n",
        "from sklearn.tree import DecisionTreeRegressor\n",
        "from sklearn.metrics import mean_squared_error\n",
        "\n",
        "def gbm_predict(X):\n",
        "    return [sum([coeff * algo.predict([x])[0] for algo, coeff in zip(base_algorithms_list, coefficients_list)]) for x in X]\n",
        "\n",
        "base_algorithms_list = []\n",
        "coefficients_list = []\n",
        "n = 50\n",
        "\n",
        "MSE_LIST = []\n",
        "\n",
        "for i in range(50):\n",
        "  dtr = DecisionTreeRegressor(max_depth=5, random_state=42)\n",
        "  dtr.fit(X_train, get_s(np.array(gbm_predict(X_train)), y_train) )\n",
        "  base_algorithms_list.append(dtr)\n",
        "  coefficients_list.append(0.9)\n",
        "  MSE = mean_squared_error(gbm_predict(X_test), y_test)\n",
        "  MSE_LIST.append(MSE)"
      ]
    },
    {
      "cell_type": "code",
      "source": [
        "plt.plot(range(50),MSE_LIST)"
      ],
      "metadata": {
        "colab": {
          "base_uri": "https://localhost:8080/",
          "height": 282
        },
        "id": "gqa4PJ0NoXIR",
        "outputId": "a5e542b0-1ecb-475e-86a5-6aaf47208392"
      },
      "execution_count": 27,
      "outputs": [
        {
          "output_type": "execute_result",
          "data": {
            "text/plain": [
              "[<matplotlib.lines.Line2D at 0x7fa704a9f3d0>]"
            ]
          },
          "metadata": {},
          "execution_count": 27
        },
        {
          "output_type": "display_data",
          "data": {
            "image/png": "[encoded data removed]",
            "text/plain": [
              "<Figure size 432x288 with 1 Axes>"
            ]
          },
          "metadata": {
            "needs_background": "light"
          }
        }
      ]
    },
    {
      "cell_type": "code",
      "source": [
        "MSE = mean_squared_error(gbm_predict(X_test), y_test)\n",
        "RMSE = MSE ** 0.5\n",
        "RMSE"
      ],
      "metadata": {
        "colab": {
          "base_uri": "https://localhost:8080/"
        },
        "id": "dzrw7-bHPgSN",
        "outputId": "d86b18f4-1592-4a0b-b5fe-cbe1b096454e"
      },
      "execution_count": 33,
      "outputs": [
        {
          "output_type": "execute_result",
          "data": {
            "text/plain": [
              "5.2011810006726815"
            ]
          },
          "metadata": {},
          "execution_count": 33
        }
      ]
    },
    {
      "cell_type": "code",
      "source": [
        "with open('1.txt', 'w') as f:\n",
        "  f.write(str(RMSE))"
      ],
      "metadata": {
        "id": "pwKfs_3OP8RP"
      },
      "execution_count": 34,
      "outputs": []
    },
    {
      "cell_type": "markdown",
      "metadata": {
        "id": "rhEpMgUEwbqw"
      },
      "source": [
        "## Задание 3\n",
        "\n",
        "Вас может также беспокоить, что двигаясь с постоянным шагом, вблизи минимума ошибки ответы на обучающей выборке меняются слишком резко, перескакивая через минимум. \n",
        "\n",
        "Попробуйте уменьшать вес перед каждым алгоритмом с каждой следующей итерацией по формуле `0.9 / (1.0 + i)`, где `i` - номер итерации (от 0 до 49). Используйте качество работы алгоритма как **ответ в пункте 3**. \n",
        "\n",
        "В реальности часто применяется следующая стратегия выбора шага: как только выбран алгоритм, подберем коэффициент перед ним численным методом оптимизации таким образом, чтобы отклонение от правильных ответов было минимальным. Мы не будем предлагать вам реализовать это для выполнения задания, но рекомендуем попробовать разобраться с такой стратегией и реализовать ее при случае для себя."
      ]
    },
    {
      "cell_type": "code",
      "execution_count": 28,
      "metadata": {
        "collapsed": true,
        "id": "SNlgzjITwbqx"
      },
      "outputs": [],
      "source": [
        "base_algorithms_list = []\n",
        "coefficients_list = []\n",
        "n = 50\n",
        "\n",
        "MSE_LIST = []\n",
        "\n",
        "for i in range(50):\n",
        "  dtr = DecisionTreeRegressor(max_depth=5, random_state=42)\n",
        "  dtr.fit(X_train, get_s(np.array(gbm_predict(X_train)), y_train) )\n",
        "  base_algorithms_list.append(dtr)\n",
        "  coefficients_list.append(0.9/(1.0 + i))\n",
        "  MSE = mean_squared_error(gbm_predict(X_test), y_test)\n",
        "  MSE_LIST.append(MSE)"
      ]
    },
    {
      "cell_type": "code",
      "source": [
        "plt.plot(range(50),MSE_LIST)"
      ],
      "metadata": {
        "colab": {
          "base_uri": "https://localhost:8080/",
          "height": 282
        },
        "id": "OOeDKgYcqCpZ",
        "outputId": "d4814f45-4882-4667-eb4c-add848e84591"
      },
      "execution_count": 29,
      "outputs": [
        {
          "output_type": "execute_result",
          "data": {
            "text/plain": [
              "[<matplotlib.lines.Line2D at 0x7fa704a194d0>]"
            ]
          },
          "metadata": {},
          "execution_count": 29
        },
        {
          "output_type": "display_data",
          "data": {
            "image/png": "[encoded data removed]",
            "text/plain": [
              "<Figure size 432x288 with 1 Axes>"
            ]
          },
          "metadata": {
            "needs_background": "light"
          }
        }
      ]
    },
    {
      "cell_type": "code",
      "source": [
        "MSE = mean_squared_error(gbm_predict(X_test), y_test)\n",
        "RMSE = MSE ** 0.5\n",
        "RMSE"
      ],
      "metadata": {
        "colab": {
          "base_uri": "https://localhost:8080/"
        },
        "id": "_V9M3ucLqPDt",
        "outputId": "b1cf21c2-5699-46ae-b113-8d74d8e51e4e"
      },
      "execution_count": 30,
      "outputs": [
        {
          "output_type": "execute_result",
          "data": {
            "text/plain": [
              "4.860814012701856"
            ]
          },
          "metadata": {},
          "execution_count": 30
        }
      ]
    },
    {
      "cell_type": "code",
      "source": [
        "with open('2.txt', 'w') as f:\n",
        "  f.write(str(RMSE))"
      ],
      "metadata": {
        "id": "HmgVn2_rqNab"
      },
      "execution_count": 31,
      "outputs": []
    },
    {
      "cell_type": "markdown",
      "metadata": {
        "id": "OpVdCsT1wbqx"
      },
      "source": [
        "## Задание 4\n",
        "\n",
        "Реализованный вами метод - градиентный бустинг над деревьями - очень популярен в машинном обучении. Он представлен как в самой библиотеке `sklearn`, так и в сторонней библиотеке `XGBoost`, которая имеет свой питоновский интерфейс. На практике `XGBoost` работает заметно лучше `GradientBoostingRegressor` из `sklearn`, но для этого задания вы можете использовать любую реализацию. \n",
        "\n",
        "Исследуйте, переобучается ли градиентный бустинг с ростом числа итераций (и подумайте, почему), а также с ростом глубины деревьев. На основе наблюдений выпишите через пробел номера правильных из приведенных ниже утверждений в порядке возрастания номера (это будет **ответ в п.4**):\n",
        "\n",
        "    1. С увеличением числа деревьев, начиная с некоторого момента, качество работы градиентного бустинга не меняется существенно.\n",
        "\n",
        "    2. С увеличением числа деревьев, начиная с некоторого момента, градиентный бустинг начинает переобучаться.\n",
        "\n",
        "    3. С ростом глубины деревьев, начиная с некоторого момента, качество работы градиентного бустинга на тестовой выборке начинает ухудшаться.\n",
        "\n",
        "    4. С ростом глубины деревьев, начиная с некоторого момента, качество работы градиентного бустинга перестает существенно изменяться"
      ]
    },
    {
      "cell_type": "code",
      "execution_count": null,
      "metadata": {
        "collapsed": true,
        "id": "el3iUSEkwbqy"
      },
      "outputs": [],
      "source": [
        "import xgboost\n",
        "\n",
        "mse_list = []\n",
        "for i in range(50, 10000, 50):\n",
        "  xgb_regressor = xgboost.XGBRegressor(n_estimators=i)\n",
        "  xgb_regressor.fit(X_train, y_train)\n",
        "  mse = mean_squared_error(xgb_regressor.predict(X_test), y_test)\n",
        "  mse_list.append(mse)"
      ]
    },
    {
      "cell_type": "code",
      "source": [
        "plt.plot(range(50, 10000, 50),mse_list)"
      ],
      "metadata": {
        "colab": {
          "base_uri": "https://localhost:8080/",
          "height": 282
        },
        "id": "wnmQYGaRxU1S",
        "outputId": "5ef36522-d611-4ab3-ddfe-0e2cc69d5fe0"
      },
      "execution_count": 50,
      "outputs": [
        {
          "output_type": "execute_result",
          "data": {
            "text/plain": [
              "[<matplotlib.lines.Line2D at 0x7fa6fba2bd50>]"
            ]
          },
          "metadata": {},
          "execution_count": 50
        },
        {
          "output_type": "display_data",
          "data": {
            "image/png": "[encoded data removed]",
            "text/plain": [
              "<Figure size 432x288 with 1 Axes>"
            ]
          },
          "metadata": {
            "needs_background": "light"
          }
        }
      ]
    },
    {
      "cell_type": "code",
      "source": [
        "import xgboost\n",
        "\n",
        "mse_list_ = []\n",
        "for i in range(1, 1000, 10):\n",
        "  xgb_regressor = xgboost.XGBRegressor(max_depth=i)\n",
        "  xgb_regressor.fit(X_train, y_train)\n",
        "  mse = mean_squared_error(xgb_regressor.predict(X_test), y_test)\n",
        "  mse_list_.append(mse)"
      ],
      "metadata": {
        "id": "hTvWjzjtxmc7"
      },
      "execution_count": null,
      "outputs": []
    },
    {
      "cell_type": "code",
      "source": [
        "plt.plot(range(1, 1000, 10), mse_list_)"
      ],
      "metadata": {
        "colab": {
          "base_uri": "https://localhost:8080/",
          "height": 284
        },
        "id": "EHDwxs5vyLg2",
        "outputId": "f41ec4de-6a75-48e0-8495-0c6af1bf83dc"
      },
      "execution_count": 48,
      "outputs": [
        {
          "output_type": "execute_result",
          "data": {
            "text/plain": [
              "[<matplotlib.lines.Line2D at 0x7fa6fbaa2e90>]"
            ]
          },
          "metadata": {},
          "execution_count": 48
        },
        {
          "output_type": "display_data",
          "data": {
            "image/png": "[encoded data removed]",
            "text/plain": [
              "<Figure size 432x288 with 1 Axes>"
            ]
          },
          "metadata": {
            "needs_background": "light"
          }
        }
      ]
    },
    {
      "cell_type": "markdown",
      "metadata": {
        "id": "nHDcMexMwbqy"
      },
      "source": [
        "## Задание 5\n",
        "\n",
        "Сравните получаемое с помощью градиентного бустинга качество с качеством работы линейной регрессии. \n",
        "\n",
        "Для этого обучите `LinearRegression` из `sklearn.linear_model` (с параметрами по умолчанию) на обучающей выборке и оцените для прогнозов полученного алгоритма на тестовой выборке `RMSE`. Полученное качество - ответ в **пункте 5**. \n",
        "\n",
        "В данном примере качество работы простой модели должно было оказаться хуже, но не стоит забывать, что так бывает не всегда. В заданиях к этому курсу вы еще встретите пример обратной ситуации."
      ]
    },
    {
      "cell_type": "code",
      "source": [
        "from sklearn.linear_model import LinearRegression\n",
        "\n",
        "linear_regression = LinearRegression()\n",
        "linear_regression.fit(X_train, y_train)\n",
        "rmse = mean_squared_error(linear_regression.predict(X_test), y_test) ** 0.5\n",
        "print(rmse)\n",
        "with open('4.txt', 'w') as f:\n",
        "  f.write(str(rmse))"
      ],
      "metadata": {
        "colab": {
          "base_uri": "https://localhost:8080/"
        },
        "id": "S3cZidfk0s_5",
        "outputId": "003f748d-af9d-4c00-a9b4-1b9fd146e76a"
      },
      "execution_count": 64,
      "outputs": [
        {
          "output_type": "stream",
          "name": "stdout",
          "text": [
            "8.254979753549398\n"
          ]
        }
      ]
    }
  ],
  "metadata": {
    "kernelspec": {
      "display_name": "Python 3",
      "language": "python",
      "name": "python3"
    },
    "language_info": {
      "codemirror_mode": {
        "name": "ipython",
        "version": 3
      },
      "file_extension": ".py",
      "mimetype": "text/x-python",
      "name": "python",
      "nbconvert_exporter": "python",
      "pygments_lexer": "ipython3",
      "version": "3.6.8"
    },
    "colab": {
      "name": "grad_boosting.ipynb",
      "provenance": []
    }
  },
  "nbformat": 4,
  "nbformat_minor": 0
}