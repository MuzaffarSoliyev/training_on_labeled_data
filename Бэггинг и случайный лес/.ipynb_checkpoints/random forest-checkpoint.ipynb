{
 "cells": [
  {
   "cell_type": "code",
   "execution_count": 7,
   "id": "07d8460d",
   "metadata": {},
   "outputs": [],
   "source": [
    "from sklearn.datasets import load_digits\n",
    "from sklearn.model_selection import cross_val_score\n",
    "import numpy as np\n",
    "import matplotlib.pyplot as plt"
   ]
  },
  {
   "cell_type": "code",
   "execution_count": 8,
   "id": "276bb774",
   "metadata": {},
   "outputs": [
    {
     "data": {
      "text/plain": [
       "dict_keys(['data', 'target', 'frame', 'feature_names', 'target_names', 'images', 'DESCR'])"
      ]
     },
     "execution_count": 8,
     "metadata": {},
     "output_type": "execute_result"
    }
   ],
   "source": [
    "digits = load_digits()\n",
    "digits.keys()"
   ]
  },
  {
   "cell_type": "code",
   "execution_count": 9,
   "id": "43b4bc5c",
   "metadata": {},
   "outputs": [],
   "source": [
    "X = digits['data']\n",
    "y = digits['target']"
   ]
  },
  {
   "cell_type": "markdown",
   "id": "e0793901",
   "metadata": {},
   "source": [
    "# 1"
   ]
  },
  {
   "cell_type": "code",
   "execution_count": 10,
   "id": "0004c276",
   "metadata": {},
   "outputs": [
    {
     "name": "stdout",
     "output_type": "stream",
     "text": [
      "DecisionTreeClassifier cross val score: 0.8335909373060211\n"
     ]
    }
   ],
   "source": [
    "from sklearn.tree import DecisionTreeClassifier\n",
    "\n",
    "decision_tree_classifier = DecisionTreeClassifier()\n",
    "cross_val_score_dtc = cross_val_score(decision_tree_classifier, X, y, cv=10)\n",
    "print(f'DecisionTreeClassifier cross val score: {cross_val_score_dtc.mean()}')"
   ]
  },
  {
   "cell_type": "markdown",
   "id": "4c3aef35",
   "metadata": {},
   "source": [
    "# 2"
   ]
  },
  {
   "cell_type": "code",
   "execution_count": 11,
   "id": "35fcb4dd",
   "metadata": {},
   "outputs": [
    {
     "name": "stdout",
     "output_type": "stream",
     "text": [
      "BaggingClassifier cross val score: 0.9265145872129112\n"
     ]
    }
   ],
   "source": [
    "from sklearn.ensemble import BaggingClassifier\n",
    "\n",
    "bagging_classifier = BaggingClassifier(n_estimators=100)\n",
    "cross_val_score_bc = cross_val_score(bagging_classifier, X, y, cv=10)\n",
    "print(f'BaggingClassifier cross val score: {cross_val_score_bc.mean()}')"
   ]
  },
  {
   "cell_type": "markdown",
   "id": "8e7b6d6d",
   "metadata": {},
   "source": [
    "# 3"
   ]
  },
  {
   "cell_type": "code",
   "execution_count": 19,
   "id": "00a9b14f",
   "metadata": {},
   "outputs": [
    {
     "name": "stdout",
     "output_type": "stream",
     "text": [
      "BaggingClassifier cross val score: 0.930996275605214\n"
     ]
    }
   ],
   "source": [
    "from sklearn.ensemble import BaggingClassifier\n",
    "\n",
    "\n",
    "bagging_classifier = BaggingClassifier(n_estimators=100, max_features=int((np.sqrt(X.shape[1]))) )\n",
    "cross_val_score_bc = cross_val_score(bagging_classifier, X, y, cv=10)\n",
    "print(f'BaggingClassifier cross val score: {cross_val_score_bc.mean()}')"
   ]
  },
  {
   "cell_type": "markdown",
   "id": "47468baa",
   "metadata": {},
   "source": [
    "# 4"
   ]
  },
  {
   "cell_type": "code",
   "execution_count": 20,
   "id": "41a2d8a2",
   "metadata": {},
   "outputs": [
    {
     "name": "stdout",
     "output_type": "stream",
     "text": [
      "BaggingClassifier cross val score: 0.9476660459342023\n"
     ]
    }
   ],
   "source": [
    "bagging_classifier = BaggingClassifier(base_estimator=DecisionTreeClassifier(max_features=int((np.sqrt(X.shape[1])))), n_estimators=100)\n",
    "cross_val_score_bc = cross_val_score(bagging_classifier, X, y, cv=10)\n",
    "print(f'BaggingClassifier cross val score: {cross_val_score_bc.mean()}')"
   ]
  },
  {
   "cell_type": "markdown",
   "id": "d84b3dbe",
   "metadata": {},
   "source": [
    "# 5"
   ]
  },
  {
   "cell_type": "code",
   "execution_count": 22,
   "id": "d81ac3f6",
   "metadata": {},
   "outputs": [
    {
     "name": "stdout",
     "output_type": "stream",
     "text": [
      "BaggingClassifier cross val score: 0.952129112352576\n"
     ]
    }
   ],
   "source": [
    "from sklearn.ensemble import RandomForestClassifier\n",
    "\n",
    "random_forest_classifier = RandomForestClassifier(n_estimators=100, max_features=int((np.sqrt(X.shape[1]))) )\n",
    "cross_val_score_rf = cross_val_score(random_forest_classifier, X, y, cv=10)\n",
    "print(f'BaggingClassifier cross val score: {cross_val_score_rf.mean()}')"
   ]
  },
  {
   "cell_type": "code",
   "execution_count": 27,
   "id": "788ea71c",
   "metadata": {},
   "outputs": [],
   "source": [
    "estimators_counts = []\n",
    "scores = []\n",
    "for n_estimators in range(10, 1010, 10):\n",
    "    random_forest_classifier = RandomForestClassifier(n_estimators=n_estimators, max_features=int((np.sqrt(X.shape[1]))) )\n",
    "    cross_val_score_rf = cross_val_score(random_forest_classifier, X, y, cv=10)\n",
    "    estimators_counts.append(n_estimators)\n",
    "    scores.append(cross_val_score_rf)"
   ]
  },
  {
   "cell_type": "code",
   "execution_count": 31,
   "id": "ddcd8612",
   "metadata": {},
   "outputs": [],
   "source": [
    "scores = np.array(scores)"
   ]
  },
  {
   "cell_type": "code",
   "execution_count": 34,
   "id": "17644176",
   "metadata": {},
   "outputs": [
    {
     "data": {
      "text/plain": [
       "Text(0.5, 1.0, 'Random Forest scores')"
      ]
     },
     "execution_count": 34,
     "metadata": {},
     "output_type": "execute_result"
    },
    {
     "data": {
      "image/png": "[encoded data removed]",
      "text/plain": [
       "<Figure size 432x288 with 1 Axes>"
      ]
     },
     "metadata": {
      "needs_background": "light"
     },
     "output_type": "display_data"
    }
   ],
   "source": [
    "plt.plot(estimators_counts, scores.mean(axis=1))\n",
    "plt.xlabel('n_estimators')\n",
    "plt.ylabel('cross val scores')\n",
    "plt.title('Random Forest scores')"
   ]
  },
  {
   "cell_type": "markdown",
   "id": "3f1d2c1e",
   "metadata": {},
   "source": [
    "На основе наблюдений выпишите через пробел номера правильных утверждений из приведенных ниже в порядке возрастания номера (это будет ответ в п.5)"
   ]
  },
  {
   "cell_type": "markdown",
   "id": "05085a3f",
   "metadata": {},
   "source": [
    "2 3 4 7"
   ]
  }
 ],
 "metadata": {
  "kernelspec": {
   "display_name": "Python 3 (ipykernel)",
   "language": "python",
   "name": "python3"
  },
  "language_info": {
   "codemirror_mode": {
    "name": "ipython",
    "version": 3
   },
   "file_extension": ".py",
   "mimetype": "text/x-python",
   "name": "python",
   "nbconvert_exporter": "python",
   "pygments_lexer": "ipython3",
   "version": "3.9.7"
  }
 },
 "nbformat": 4,
 "nbformat_minor": 5
}
