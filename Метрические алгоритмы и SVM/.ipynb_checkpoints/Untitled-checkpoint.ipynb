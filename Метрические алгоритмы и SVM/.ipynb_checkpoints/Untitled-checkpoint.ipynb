{
 "cells": [
  {
   "cell_type": "code",
   "execution_count": 1,
   "id": "6c081a09",
   "metadata": {},
   "outputs": [],
   "source": [
    "from sklearn.datasets import load_digits\n",
    "from sklearn.model_selection import train_test_split\n",
    "import numpy as np\n",
    "import matplotlib.pyplot as plt\n",
    "from sklearn.metrics import accuracy_score\n",
    "from sklearn.ensemble import RandomForestClassifier\n",
    "\n",
    "digits = load_digits()\n",
    "X = digits.data\n",
    "y = digits.target"
   ]
  },
  {
   "cell_type": "code",
   "execution_count": 21,
   "id": "1e5cd100",
   "metadata": {},
   "outputs": [
    {
     "name": "stdout",
     "output_type": "stream",
     "text": [
      "0.020000000000000018\n"
     ]
    },
    {
     "data": {
      "text/plain": [
       "0.06666666666666665"
      ]
     },
     "execution_count": 21,
     "metadata": {},
     "output_type": "execute_result"
    }
   ],
   "source": [
    "X_new = []\n",
    "for i, elem in enumerate(X):\n",
    "    X_new.append((i, elem, y[i]))\n",
    "X_train, X_test, y_train, y_test = train_test_split(X_new, y, test_size=0.25, shuffle = False)\n",
    "\n",
    "def knn(elem, dataset, y):\n",
    "    elemenst = []\n",
    "    for data in dataset:\n",
    "        if elem[0] != data[0]:\n",
    "            elemenst.append( (np.linalg.norm(elem[1] - data[1]), y[data[0]]))\n",
    "    sorted_by_first = sorted(elemenst)\n",
    "    return sorted_by_first[0]\n",
    "\n",
    "test_results = []\n",
    "for x in X_test:\n",
    "    test_results.append(knn(x, X_test, y))\n",
    "    \n",
    "y_pred_test = [i[1] for i in test_results]\n",
    "print(1 - accuracy_score(y_pred_test, y_test))\n",
    "\n",
    "\n",
    "X_train_new = []\n",
    "X_test_new = []\n",
    "for i in X_train:\n",
    "    X_train_new.append(i[1])\n",
    "for i in X_test:\n",
    "    X_test_new.append(i[1])\n",
    "    \n",
    "    \n",
    "random_forest = RandomForestClassifier(n_estimators=1000)\n",
    "random_forest.fit(X_train_new, y_train)\n",
    "y_pred = random_forest.predict(X_test_new)\n",
    "1 - accuracy_score(y_pred, y_test)"
   ]
  },
  {
   "cell_type": "code",
   "execution_count": 24,
   "id": "d75e165b",
   "metadata": {},
   "outputs": [
    {
     "data": {
      "text/plain": [
       "0.00013743895347200012"
      ]
     },
     "execution_count": 24,
     "metadata": {},
     "output_type": "execute_result"
    }
   ],
   "source": [
    "0.2 ** 4 * (1-0.2) ** 11"
   ]
  },
  {
   "cell_type": "code",
   "execution_count": 23,
   "id": "592979cb",
   "metadata": {},
   "outputs": [
    {
     "data": {
      "text/plain": [
       "0.26666666666666666"
      ]
     },
     "execution_count": 23,
     "metadata": {},
     "output_type": "execute_result"
    }
   ],
   "source": [
    "4/15"
   ]
  }
 ],
 "metadata": {
  "kernelspec": {
   "display_name": "Python 3 (ipykernel)",
   "language": "python",
   "name": "python3"
  },
  "language_info": {
   "codemirror_mode": {
    "name": "ipython",
    "version": 3
   },
   "file_extension": ".py",
   "mimetype": "text/x-python",
   "name": "python",
   "nbconvert_exporter": "python",
   "pygments_lexer": "ipython3",
   "version": "3.9.7"
  }
 },
 "nbformat": 4,
 "nbformat_minor": 5
}
